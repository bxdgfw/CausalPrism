{
 "cells": [
  {
   "cell_type": "code",
   "execution_count": null,
   "metadata": {},
   "outputs": [],
   "source": [
    "from evaluation import get_pareto \n",
    "import pandas as pd\n",
    "import csv  \n",
    "\n",
    "df = pd.read_csv('../data/sys_data1.csv')\n",
    "result = get_pareto(df, treatment = 't', outcome = 'y', thre = 0.03, rule_length = 4, pru_coef = 0.8)\n",
    "\n",
    "\n",
    "# 获取字典的键，这将作为CSV文件的列名  \n",
    "keys = result[-1].keys()  \n",
    "  \n",
    "# 使用字典的键创建CSV文件  \n",
    "with open('result/data1_result.csv', 'w', newline='') as output_file:  \n",
    "    dict_writer = csv.DictWriter(output_file, keys)  \n",
    "    dict_writer.writeheader()  \n",
    "    dict_writer.writerows(result)  "
   ]
  },
  {
   "cell_type": "code",
   "execution_count": null,
   "metadata": {},
   "outputs": [],
   "source": [
    "from evaluation import get_pareto \n",
    "import pandas as pd\n",
    "import csv  \n",
    "\n",
    "df = pd.read_csv('../data/sys_data2.csv')\n",
    "result = get_pareto(df, treatment = 't', outcome = 'y', thre = 0.03, rule_length = 4, pru_coef = 1)\n",
    "\n",
    "\n",
    "# 获取字典的键，这将作为CSV文件的列名  \n",
    "keys = result[-1].keys()  \n",
    "  \n",
    "# 使用字典的键创建CSV文件  \n",
    "with open('result/data2_result.csv', 'w', newline='') as output_file:  \n",
    "    dict_writer = csv.DictWriter(output_file, keys)  \n",
    "    dict_writer.writeheader()  \n",
    "    dict_writer.writerows(result)  "
   ]
  },
  {
   "cell_type": "code",
   "execution_count": null,
   "metadata": {},
   "outputs": [],
   "source": [
    "from evaluation import get_pareto \n",
    "import pandas as pd\n",
    "import csv  \n",
    "\n",
    "df = pd.read_csv('../data/sys_data3.csv')\n",
    "result = get_pareto(df, treatment = 't', outcome = 'y', thre = 0.03, rule_length = 4, pru_coef = 0.6)\n",
    "\n",
    "\n",
    "# 获取字典的键，这将作为CSV文件的列名  \n",
    "keys = result[-1].keys()  \n",
    "  \n",
    "# 使用字典的键创建CSV文件  \n",
    "with open('result/data3_result.csv', 'w', newline='') as output_file:  \n",
    "    dict_writer = csv.DictWriter(output_file, keys)  \n",
    "    dict_writer.writeheader()  \n",
    "    dict_writer.writerows(result)  "
   ]
  },
  {
   "cell_type": "code",
   "execution_count": null,
   "metadata": {},
   "outputs": [],
   "source": [
    "from evaluation import get_pareto \n",
    "import pandas as pd\n",
    "import csv  \n",
    "\n",
    "df = pd.read_csv('../data/sys_data4.csv')\n",
    "result = get_pareto(df, treatment = 't', outcome = 'y', thre = 0.03, rule_length = 4, pru_coef = 0.6)\n",
    "\n",
    "\n",
    "# 获取字典的键，这将作为CSV文件的列名  \n",
    "keys = result[-1].keys()  \n",
    "  \n",
    "# 使用字典的键创建CSV文件  \n",
    "with open('result/data4_result.csv', 'w', newline='') as output_file:  \n",
    "    dict_writer = csv.DictWriter(output_file, keys)  \n",
    "    dict_writer.writeheader()  \n",
    "    dict_writer.writerows(result)  "
   ]
  },
  {
   "cell_type": "code",
   "execution_count": null,
   "metadata": {},
   "outputs": [],
   "source": [
    "from evaluation import get_pareto \n",
    "import pandas as pd\n",
    "import csv  \n",
    "\n",
    "df = pd.read_csv('../data/sys_data5.csv')\n",
    "result = get_pareto(df, treatment = 't', outcome = 'y', thre = 0.03, rule_length = 4, pru_coef = 0.6)\n",
    "\n",
    "\n",
    "# 获取字典的键，这将作为CSV文件的列名  \n",
    "keys = result[-1].keys()  \n",
    "  \n",
    "# 使用字典的键创建CSV文件  \n",
    "with open('result/data5_result.csv', 'w', newline='') as output_file:  \n",
    "    dict_writer = csv.DictWriter(output_file, keys)  \n",
    "    dict_writer.writeheader()  \n",
    "    dict_writer.writerows(result)  "
   ]
  },
  {
   "cell_type": "code",
   "execution_count": null,
   "metadata": {},
   "outputs": [],
   "source": [
    "from evaluation import get_pareto \n",
    "import pandas as pd\n",
    "import csv  \n",
    "\n",
    "df = pd.read_csv('../data/sys_data6.csv')\n",
    "\n",
    "result = get_pareto(df, treatment = 't', outcome = 'y', thre = 0.03, rule_length = 4, pru_coef = 0.6)\n",
    "\n",
    "\n",
    "# 获取字典的键，这将作为CSV文件的列名  \n",
    "keys = result[-1].keys()  \n",
    "  \n",
    "# 使用字典的键创建CSV文件  \n",
    "with open('result/data6_result.csv', 'w', newline='') as output_file:  \n",
    "    dict_writer = csv.DictWriter(output_file, keys)  \n",
    "    dict_writer.writeheader()  \n",
    "    dict_writer.writerows(result)  "
   ]
  },
  {
   "cell_type": "code",
   "execution_count": null,
   "metadata": {},
   "outputs": [],
   "source": [
    "from evaluation import get_pareto \n",
    "import pandas as pd\n",
    "import csv  \n",
    "\n",
    "df = pd.read_csv('../data/dowhy_ihdp.csv')\n",
    "result = get_pareto(df, treatment = 't', outcome = 'y', thre = 0.02, rule_length = 4, pru_coef = 0.4)\n",
    "\n",
    "\n",
    "# 获取字典的键，这将作为CSV文件的列名  \n",
    "keys = result[-1].keys()  \n",
    "  \n",
    "# 使用字典的键创建CSV文件  \n",
    "with open('result/data_ihdp_result.csv', 'w', newline='') as output_file:  \n",
    "    dict_writer = csv.DictWriter(output_file, keys)  \n",
    "    dict_writer.writeheader()  \n",
    "    dict_writer.writerows(result)  "
   ]
  },
  {
   "cell_type": "code",
   "execution_count": null,
   "metadata": {},
   "outputs": [],
   "source": [
    "from evaluation import get_pareto \n",
    "import pandas as pd\n",
    "import csv  \n",
    "\n",
    "df = pd.read_csv('../data/dowhy_twins.csv')\n",
    "result = get_pareto(df, treatment = 't', outcome = 'y', thre = 0.01, rule_length = 4, pru_coef = 0.8)\n",
    "\n",
    "\n",
    "# 获取字典的键，这将作为CSV文件的列名  \n",
    "keys = result[-1].keys()  \n",
    "  \n",
    "# 使用字典的键创建CSV文件  \n",
    "with open('result/data_twins_result.csv', 'w', newline='') as output_file:  \n",
    "    dict_writer = csv.DictWriter(output_file, keys)  \n",
    "    dict_writer.writeheader()  \n",
    "    dict_writer.writerows(result)  "
   ]
  },
  {
   "cell_type": "code",
   "execution_count": null,
   "metadata": {},
   "outputs": [],
   "source": []
  },
  {
   "cell_type": "code",
   "execution_count": null,
   "metadata": {},
   "outputs": [],
   "source": []
  },
  {
   "cell_type": "code",
   "execution_count": null,
   "metadata": {},
   "outputs": [],
   "source": []
  }
 ],
 "metadata": {
  "kernelspec": {
   "display_name": "base",
   "language": "python",
   "name": "python3"
  },
  "language_info": {
   "codemirror_mode": {
    "name": "ipython",
    "version": 3
   },
   "file_extension": ".py",
   "mimetype": "text/x-python",
   "name": "python",
   "nbconvert_exporter": "python",
   "pygments_lexer": "ipython3",
   "version": "3.11.7"
  }
 },
 "nbformat": 4,
 "nbformat_minor": 2
}
